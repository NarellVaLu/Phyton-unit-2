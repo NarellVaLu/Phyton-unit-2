{
  "nbformat": 4,
  "nbformat_minor": 0,
  "metadata": {
    "colab": {
      "name": "Unit2_Mini_ProjectNarellVasquez.ipynb",
      "provenance": [],
      "collapsed_sections": [],
      "toc_visible": true
    },
    "kernelspec": {
      "name": "python3",
      "display_name": "Python 3"
    }
  },
  "cells": [
    {
      "cell_type": "markdown",
      "metadata": {
        "id": "Vgs8Kp4TidFQ"
      },
      "source": [
        "# Intrdouction to Python - Mini Project"
      ]
    },
    {
      "cell_type": "markdown",
      "metadata": {
        "id": "_Hq7Ny79iwgD"
      },
      "source": [
        "#Python Project – Odd or Even\n",
        "\n",
        "Ask the user for a number. Depending on whether the number is even or odd, print out an appropriate message to the user. Hint: how does an even / odd number react differently when divided by 2?\n"
      ]
    },
    {
      "cell_type": "code",
      "metadata": {
        "id": "lotvpVpvlKsR",
        "colab": {
          "base_uri": "https://localhost:8080/"
        },
        "outputId": "59eb1980-7d7e-4b95-87b1-c6453e7c431b"
      },
      "source": [
        "num = int(input(\"Enter a number: \"))\n",
        "if (num % 2) == 0:\n",
        "   print(num,\" is Even when divided by 2\".format(num))\n",
        "else:\n",
        "   print(num ,\" is Odd when divided by 2\".format(num))\n"
      ],
      "execution_count": 12,
      "outputs": [
        {
          "output_type": "stream",
          "name": "stdout",
          "text": [
            "Enter a number: 7\n",
            "7  is Odd when divided by 2\n"
          ]
        }
      ]
    },
    {
      "cell_type": "code",
      "metadata": {
        "id": "oNXY-CfrlLbE",
        "colab": {
          "base_uri": "https://localhost:8080/"
        },
        "outputId": "50a4469e-9fb1-42dd-af4a-ee40d50a7483"
      },
      "source": [
        "num = int(input(\"Enter a number: \"))\n",
        "if (num % 2) == 0:\n",
        "   print(num,\" is Even when divided by 2\".format(num))\n",
        "else:\n",
        "   print(num ,\" is Odd when divided by 2\".format(num))\n"
      ],
      "execution_count": 13,
      "outputs": [
        {
          "output_type": "stream",
          "name": "stdout",
          "text": [
            "Enter a number: 6\n",
            "6  is Even when divided by 2\n"
          ]
        }
      ]
    },
    {
      "cell_type": "code",
      "metadata": {
        "id": "lyoaBLI8nvRT",
        "colab": {
          "base_uri": "https://localhost:8080/"
        },
        "outputId": "0261b845-40c6-4c55-fc22-816e8dd2a18b"
      },
      "source": [
        "num = int(input(\"Enter a number: \"))\n",
        "if (num % 2) == 0:\n",
        "   print(num,\" is Even when divided by 2\".format(num))\n",
        "else:\n",
        "   print(num ,\" is Odd when divided by 2\".format(num))\n"
      ],
      "execution_count": 14,
      "outputs": [
        {
          "output_type": "stream",
          "name": "stdout",
          "text": [
            "Enter a number: 2\n",
            "2  is Even when divided by 2\n"
          ]
        }
      ]
    },
    {
      "cell_type": "code",
      "metadata": {
        "id": "TuD1O2R0nvTd",
        "colab": {
          "base_uri": "https://localhost:8080/"
        },
        "outputId": "3abfcc65-d18c-4459-8284-4b36a12848da"
      },
      "source": [
        "num = int(input(\"Enter a number: \"))\n",
        "if (num % 2) == 0:\n",
        "   print(num,\" is Even when divided by 2\".format(num))\n",
        "else:\n",
        "   print(num ,\" is Odd when divided by 2\".format(num))\n",
        "   "
      ],
      "execution_count": 21,
      "outputs": [
        {
          "output_type": "stream",
          "name": "stdout",
          "text": [
            "Enter a number: 1864\n",
            "1864  is Even when divided by 2\n"
          ]
        }
      ]
    },
    {
      "cell_type": "code",
      "metadata": {
        "id": "1uWxo8AxnvVN",
        "colab": {
          "base_uri": "https://localhost:8080/"
        },
        "outputId": "c1d451a6-7034-4987-95a9-1131b639e12b"
      },
      "source": [
        "num = int(input(\"Enter a number: \"))\n",
        "if (num % 2) == 0:\n",
        "   print(num,\" is Even when divided by 2\".format(num))\n",
        "else:\n",
        "   print(num ,\" is Odd when divided by 2\".format(num))\n",
        "   "
      ],
      "execution_count": 20,
      "outputs": [
        {
          "output_type": "stream",
          "name": "stdout",
          "text": [
            "Enter a number: 24\n",
            "24  is Even when divided by 2\n"
          ]
        }
      ]
    },
    {
      "cell_type": "code",
      "metadata": {
        "id": "32ld2T0onvZE",
        "colab": {
          "base_uri": "https://localhost:8080/"
        },
        "outputId": "64993c61-5a47-4fbf-cb64-1fe2242d1630"
      },
      "source": [
        "num = int(input(\"Enter a number: \"))\n",
        "if (num % 2) == 0:\n",
        "   print(num,\" is Even when divided by 2\".format(num))\n",
        "else:\n",
        "   print(num ,\" is Odd when divided by 2\".format(num))\n",
        "   "
      ],
      "execution_count": 19,
      "outputs": [
        {
          "output_type": "stream",
          "name": "stdout",
          "text": [
            "Enter a number: 67\n",
            "67  is Odd when divided by 2\n"
          ]
        }
      ]
    },
    {
      "cell_type": "code",
      "metadata": {
        "id": "DGwOthAbnvaw",
        "colab": {
          "base_uri": "https://localhost:8080/"
        },
        "outputId": "bf73f851-b8dd-4549-e9f2-0f347e42b12d"
      },
      "source": [
        "num = int(input(\"Enter a number: \"))\n",
        "if (num % 2) == 0:\n",
        "   print(num,\" is Even when divided by 2\".format(num))\n",
        "else:\n",
        "   print(num ,\" is Odd when divided by 2\".format(num))\n",
        "   "
      ],
      "execution_count": 18,
      "outputs": [
        {
          "output_type": "stream",
          "name": "stdout",
          "text": [
            "Enter a number: 89\n",
            "89  is Odd when divided by 2\n"
          ]
        }
      ]
    },
    {
      "cell_type": "code",
      "metadata": {
        "id": "6_iDEhq5nvd8",
        "colab": {
          "base_uri": "https://localhost:8080/"
        },
        "outputId": "93ffc6ea-f432-4037-fbfd-32617c08099d"
      },
      "source": [
        "num = int(input(\"Enter a number: \"))\n",
        "if (num % 2) == 0:\n",
        "   print(num,\" is Even when divided by 2\".format(num))\n",
        "else:\n",
        "   print(num ,\" is Odd when divided by 2\".format(num))\n",
        "   "
      ],
      "execution_count": 22,
      "outputs": [
        {
          "output_type": "stream",
          "name": "stdout",
          "text": [
            "Enter a number: 2022\n",
            "2022  is Even when divided by 2\n"
          ]
        }
      ]
    },
    {
      "cell_type": "markdown",
      "metadata": {
        "id": "io_27RSlizno"
      },
      "source": [
        "# Bonus:\n",
        "\n",
        "1.\tIf the number is a multiple of 4, print out a different message.\n",
        "\n",
        "2.\tAsk the user for two numbers: one number to check (call it num) and one number to divide by (check). If check divides evenly into num, tell that to the user. If not, print a different appropriate message.\n"
      ]
    },
    {
      "cell_type": "code",
      "metadata": {
        "id": "Dh1o5cAylSHB",
        "colab": {
          "base_uri": "https://localhost:8080/"
        },
        "outputId": "1a295a75-4bd1-40a7-ed44-ccbb447fa231"
      },
      "source": [
        "num = int(input(\"Enter a number: \"))\n",
        "if (num % 4) == 0:\n",
        "    print(\"Your number is a multiple of 4\")\n",
        "else:\n",
        "        print(\"Your number is not multiple of 4\")\n",
        "\n",
        "\n",
        "\n",
        "   "
      ],
      "execution_count": 32,
      "outputs": [
        {
          "output_type": "stream",
          "name": "stdout",
          "text": [
            "Enter a number: 3860\n",
            "Your number is a multiple of 4\n"
          ]
        }
      ]
    },
    {
      "cell_type": "code",
      "metadata": {
        "id": "vs8ppR-wlSKL",
        "colab": {
          "base_uri": "https://localhost:8080/"
        },
        "outputId": "459fc846-d5b4-4cce-a0b8-7ee3fa570eb9"
      },
      "source": [
        "num = int(input(\"Enter a number: \"))\n",
        "check = int(input(\"Enter a number to divide by: \"))\n",
        "\n",
        "if num % check == 0:\n",
        "    print(\"Your number divides evenly\")\n",
        "else:\n",
        "    print(\"Keep trying\")"
      ],
      "execution_count": 1,
      "outputs": [
        {
          "output_type": "stream",
          "name": "stdout",
          "text": [
            "Enter a number: 18\n",
            "Enter a number to divide by: 7\n",
            "Keep trying\n"
          ]
        }
      ]
    },
    {
      "cell_type": "code",
      "metadata": {
        "id": "5mkKtxzunuqc"
      },
      "source": [
        ""
      ],
      "execution_count": null,
      "outputs": []
    },
    {
      "cell_type": "code",
      "metadata": {
        "id": "rmfPnI5onutd"
      },
      "source": [
        ""
      ],
      "execution_count": null,
      "outputs": []
    },
    {
      "cell_type": "code",
      "metadata": {
        "id": "6000qDkVnuxM"
      },
      "source": [
        ""
      ],
      "execution_count": null,
      "outputs": []
    },
    {
      "cell_type": "code",
      "metadata": {
        "id": "X2X4dTbfnu0M"
      },
      "source": [
        ""
      ],
      "execution_count": null,
      "outputs": []
    }
  ]
}