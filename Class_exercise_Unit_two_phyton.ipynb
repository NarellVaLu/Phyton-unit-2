{
  "nbformat": 4,
  "nbformat_minor": 0,
  "metadata": {
    "colab": {
      "name": "Class exercise. Unit two phyton ",
      "provenance": [],
      "collapsed_sections": []
    },
    "kernelspec": {
      "name": "python3",
      "display_name": "Python 3"
    },
    "language_info": {
      "name": "python"
    }
  },
  "cells": [
    {
      "cell_type": "code",
      "execution_count": null,
      "metadata": {
        "colab": {
          "base_uri": "https://localhost:8080/"
        },
        "id": "o8mTt_ryzj1w",
        "outputId": "5772e125-470a-49da-d62f-d1cf0bae124a"
      },
      "outputs": [
        {
          "output_type": "stream",
          "name": "stdout",
          "text": [
            "sushi\n",
            "My favorite food is SUSHI!!!\n",
            "['paella', 'sushi', 'tacos', 'crepes']\n",
            "['paella', 'tacos', 'crepes']\n",
            "['pasta', 'paella', 'tacos', 'crepes']\n"
          ]
        }
      ],
      "source": [
        "myfood = ['paella', 'sushi', 'tacos']\n",
        "print(myfood[1])\n",
        "message = \"My favorite food is \" +  myfood[1].upper() + \"!!!\"\n",
        "print(message)\n",
        "myfood.insert(3,  'crepes')\n",
        "print(myfood)\n",
        "del myfood [1]\n",
        "print(myfood)\n",
        "myfood.insert(0, 'pasta')\n",
        "print (myfood)\n",
        "\n",
        "\n"
      ]
    },
    {
      "cell_type": "code",
      "source": [
        "travel = ['paris', 'roma' , 'jerusalem', 'maldivias', 'greece']\n",
        "print(travel)\n",
        "travel.sort()\n",
        "print(travel)\n",
        "travel.sort(reverse=True)\n",
        "print(travel)\n",
        "\n"
      ],
      "metadata": {
        "colab": {
          "base_uri": "https://localhost:8080/"
        },
        "id": "2En9gfnn6p91",
        "outputId": "df611040-b3d6-431d-a14d-c891ce5f6527"
      },
      "execution_count": null,
      "outputs": [
        {
          "output_type": "stream",
          "name": "stdout",
          "text": [
            "['paris', 'roma', 'jerusalem', 'maldivias', 'greece']\n",
            "['greece', 'jerusalem', 'maldivias', 'paris', 'roma']\n",
            "['roma', 'paris', 'maldivias', 'jerusalem', 'greece']\n"
          ]
        }
      ]
    },
    {
      "cell_type": "code",
      "source": [
        "favoritefood = [ 'pizza' , 'sushi', 'pasta', 'soup' , 'burger']\n",
        "for food in favoritefood :\n",
        "  print(food.title() + \", is my favorite food !\")\n",
        "print(\"I love food\")"
      ],
      "metadata": {
        "colab": {
          "base_uri": "https://localhost:8080/"
        },
        "id": "hNVS2Q8v22Me",
        "outputId": "f260d69c-ba4e-4715-e86f-d36fdb65be6c"
      },
      "execution_count": null,
      "outputs": [
        {
          "output_type": "stream",
          "name": "stdout",
          "text": [
            "Pizza, is my favorite food !\n",
            "Sushi, is my favorite food !\n",
            "Pasta, is my favorite food !\n",
            "Soup, is my favorite food !\n",
            "Burger, is my favorite food !\n",
            "I love food\n"
          ]
        }
      ]
    },
    {
      "cell_type": "code",
      "source": [
        "numbers = list(range(0,11, 2))\n",
        "print(numbers)\n",
        "print(min(numbers))\n",
        "print(max(numbers))\n",
        "print(sum(numbers))\n",
        "\n"
      ],
      "metadata": {
        "colab": {
          "base_uri": "https://localhost:8080/"
        },
        "id": "Z3hp5_D97N5i",
        "outputId": "c44c49cc-c01e-4d5b-c0a6-8951a15d3346"
      },
      "execution_count": null,
      "outputs": [
        {
          "output_type": "stream",
          "name": "stdout",
          "text": [
            "[0, 2, 4, 6, 8, 10]\n",
            "0\n",
            "10\n",
            "30\n"
          ]
        }
      ]
    },
    {
      "cell_type": "code",
      "source": [
        "numbers = list ( range (1,100000, 100))\n",
        "print (numbers)\n",
        "odd_number=list(range(1,20,2))\n",
        "print(odd_number)\n",
        "for num in range(1,21):\n",
        "  if num%2==0:\n",
        "    print(num)\n"
      ],
      "metadata": {
        "colab": {
          "base_uri": "https://localhost:8080/"
        },
        "id": "4HdqRwE-C_Ak",
        "outputId": "7f3619ff-23ca-4c8a-b1e3-302fb5a89194"
      },
      "execution_count": null,
      "outputs": [
        {
          "output_type": "stream",
          "name": "stdout",
          "text": [
            "[1, 101, 201, 301, 401, 501, 601, 701, 801, 901, 1001, 1101, 1201, 1301, 1401, 1501, 1601, 1701, 1801, 1901, 2001, 2101, 2201, 2301, 2401, 2501, 2601, 2701, 2801, 2901, 3001, 3101, 3201, 3301, 3401, 3501, 3601, 3701, 3801, 3901, 4001, 4101, 4201, 4301, 4401, 4501, 4601, 4701, 4801, 4901, 5001, 5101, 5201, 5301, 5401, 5501, 5601, 5701, 5801, 5901, 6001, 6101, 6201, 6301, 6401, 6501, 6601, 6701, 6801, 6901, 7001, 7101, 7201, 7301, 7401, 7501, 7601, 7701, 7801, 7901, 8001, 8101, 8201, 8301, 8401, 8501, 8601, 8701, 8801, 8901, 9001, 9101, 9201, 9301, 9401, 9501, 9601, 9701, 9801, 9901, 10001, 10101, 10201, 10301, 10401, 10501, 10601, 10701, 10801, 10901, 11001, 11101, 11201, 11301, 11401, 11501, 11601, 11701, 11801, 11901, 12001, 12101, 12201, 12301, 12401, 12501, 12601, 12701, 12801, 12901, 13001, 13101, 13201, 13301, 13401, 13501, 13601, 13701, 13801, 13901, 14001, 14101, 14201, 14301, 14401, 14501, 14601, 14701, 14801, 14901, 15001, 15101, 15201, 15301, 15401, 15501, 15601, 15701, 15801, 15901, 16001, 16101, 16201, 16301, 16401, 16501, 16601, 16701, 16801, 16901, 17001, 17101, 17201, 17301, 17401, 17501, 17601, 17701, 17801, 17901, 18001, 18101, 18201, 18301, 18401, 18501, 18601, 18701, 18801, 18901, 19001, 19101, 19201, 19301, 19401, 19501, 19601, 19701, 19801, 19901, 20001, 20101, 20201, 20301, 20401, 20501, 20601, 20701, 20801, 20901, 21001, 21101, 21201, 21301, 21401, 21501, 21601, 21701, 21801, 21901, 22001, 22101, 22201, 22301, 22401, 22501, 22601, 22701, 22801, 22901, 23001, 23101, 23201, 23301, 23401, 23501, 23601, 23701, 23801, 23901, 24001, 24101, 24201, 24301, 24401, 24501, 24601, 24701, 24801, 24901, 25001, 25101, 25201, 25301, 25401, 25501, 25601, 25701, 25801, 25901, 26001, 26101, 26201, 26301, 26401, 26501, 26601, 26701, 26801, 26901, 27001, 27101, 27201, 27301, 27401, 27501, 27601, 27701, 27801, 27901, 28001, 28101, 28201, 28301, 28401, 28501, 28601, 28701, 28801, 28901, 29001, 29101, 29201, 29301, 29401, 29501, 29601, 29701, 29801, 29901, 30001, 30101, 30201, 30301, 30401, 30501, 30601, 30701, 30801, 30901, 31001, 31101, 31201, 31301, 31401, 31501, 31601, 31701, 31801, 31901, 32001, 32101, 32201, 32301, 32401, 32501, 32601, 32701, 32801, 32901, 33001, 33101, 33201, 33301, 33401, 33501, 33601, 33701, 33801, 33901, 34001, 34101, 34201, 34301, 34401, 34501, 34601, 34701, 34801, 34901, 35001, 35101, 35201, 35301, 35401, 35501, 35601, 35701, 35801, 35901, 36001, 36101, 36201, 36301, 36401, 36501, 36601, 36701, 36801, 36901, 37001, 37101, 37201, 37301, 37401, 37501, 37601, 37701, 37801, 37901, 38001, 38101, 38201, 38301, 38401, 38501, 38601, 38701, 38801, 38901, 39001, 39101, 39201, 39301, 39401, 39501, 39601, 39701, 39801, 39901, 40001, 40101, 40201, 40301, 40401, 40501, 40601, 40701, 40801, 40901, 41001, 41101, 41201, 41301, 41401, 41501, 41601, 41701, 41801, 41901, 42001, 42101, 42201, 42301, 42401, 42501, 42601, 42701, 42801, 42901, 43001, 43101, 43201, 43301, 43401, 43501, 43601, 43701, 43801, 43901, 44001, 44101, 44201, 44301, 44401, 44501, 44601, 44701, 44801, 44901, 45001, 45101, 45201, 45301, 45401, 45501, 45601, 45701, 45801, 45901, 46001, 46101, 46201, 46301, 46401, 46501, 46601, 46701, 46801, 46901, 47001, 47101, 47201, 47301, 47401, 47501, 47601, 47701, 47801, 47901, 48001, 48101, 48201, 48301, 48401, 48501, 48601, 48701, 48801, 48901, 49001, 49101, 49201, 49301, 49401, 49501, 49601, 49701, 49801, 49901, 50001, 50101, 50201, 50301, 50401, 50501, 50601, 50701, 50801, 50901, 51001, 51101, 51201, 51301, 51401, 51501, 51601, 51701, 51801, 51901, 52001, 52101, 52201, 52301, 52401, 52501, 52601, 52701, 52801, 52901, 53001, 53101, 53201, 53301, 53401, 53501, 53601, 53701, 53801, 53901, 54001, 54101, 54201, 54301, 54401, 54501, 54601, 54701, 54801, 54901, 55001, 55101, 55201, 55301, 55401, 55501, 55601, 55701, 55801, 55901, 56001, 56101, 56201, 56301, 56401, 56501, 56601, 56701, 56801, 56901, 57001, 57101, 57201, 57301, 57401, 57501, 57601, 57701, 57801, 57901, 58001, 58101, 58201, 58301, 58401, 58501, 58601, 58701, 58801, 58901, 59001, 59101, 59201, 59301, 59401, 59501, 59601, 59701, 59801, 59901, 60001, 60101, 60201, 60301, 60401, 60501, 60601, 60701, 60801, 60901, 61001, 61101, 61201, 61301, 61401, 61501, 61601, 61701, 61801, 61901, 62001, 62101, 62201, 62301, 62401, 62501, 62601, 62701, 62801, 62901, 63001, 63101, 63201, 63301, 63401, 63501, 63601, 63701, 63801, 63901, 64001, 64101, 64201, 64301, 64401, 64501, 64601, 64701, 64801, 64901, 65001, 65101, 65201, 65301, 65401, 65501, 65601, 65701, 65801, 65901, 66001, 66101, 66201, 66301, 66401, 66501, 66601, 66701, 66801, 66901, 67001, 67101, 67201, 67301, 67401, 67501, 67601, 67701, 67801, 67901, 68001, 68101, 68201, 68301, 68401, 68501, 68601, 68701, 68801, 68901, 69001, 69101, 69201, 69301, 69401, 69501, 69601, 69701, 69801, 69901, 70001, 70101, 70201, 70301, 70401, 70501, 70601, 70701, 70801, 70901, 71001, 71101, 71201, 71301, 71401, 71501, 71601, 71701, 71801, 71901, 72001, 72101, 72201, 72301, 72401, 72501, 72601, 72701, 72801, 72901, 73001, 73101, 73201, 73301, 73401, 73501, 73601, 73701, 73801, 73901, 74001, 74101, 74201, 74301, 74401, 74501, 74601, 74701, 74801, 74901, 75001, 75101, 75201, 75301, 75401, 75501, 75601, 75701, 75801, 75901, 76001, 76101, 76201, 76301, 76401, 76501, 76601, 76701, 76801, 76901, 77001, 77101, 77201, 77301, 77401, 77501, 77601, 77701, 77801, 77901, 78001, 78101, 78201, 78301, 78401, 78501, 78601, 78701, 78801, 78901, 79001, 79101, 79201, 79301, 79401, 79501, 79601, 79701, 79801, 79901, 80001, 80101, 80201, 80301, 80401, 80501, 80601, 80701, 80801, 80901, 81001, 81101, 81201, 81301, 81401, 81501, 81601, 81701, 81801, 81901, 82001, 82101, 82201, 82301, 82401, 82501, 82601, 82701, 82801, 82901, 83001, 83101, 83201, 83301, 83401, 83501, 83601, 83701, 83801, 83901, 84001, 84101, 84201, 84301, 84401, 84501, 84601, 84701, 84801, 84901, 85001, 85101, 85201, 85301, 85401, 85501, 85601, 85701, 85801, 85901, 86001, 86101, 86201, 86301, 86401, 86501, 86601, 86701, 86801, 86901, 87001, 87101, 87201, 87301, 87401, 87501, 87601, 87701, 87801, 87901, 88001, 88101, 88201, 88301, 88401, 88501, 88601, 88701, 88801, 88901, 89001, 89101, 89201, 89301, 89401, 89501, 89601, 89701, 89801, 89901, 90001, 90101, 90201, 90301, 90401, 90501, 90601, 90701, 90801, 90901, 91001, 91101, 91201, 91301, 91401, 91501, 91601, 91701, 91801, 91901, 92001, 92101, 92201, 92301, 92401, 92501, 92601, 92701, 92801, 92901, 93001, 93101, 93201, 93301, 93401, 93501, 93601, 93701, 93801, 93901, 94001, 94101, 94201, 94301, 94401, 94501, 94601, 94701, 94801, 94901, 95001, 95101, 95201, 95301, 95401, 95501, 95601, 95701, 95801, 95901, 96001, 96101, 96201, 96301, 96401, 96501, 96601, 96701, 96801, 96901, 97001, 97101, 97201, 97301, 97401, 97501, 97601, 97701, 97801, 97901, 98001, 98101, 98201, 98301, 98401, 98501, 98601, 98701, 98801, 98901, 99001, 99101, 99201, 99301, 99401, 99501, 99601, 99701, 99801, 99901]\n",
            "[1, 3, 5, 7, 9, 11, 13, 15, 17, 19]\n",
            "2\n",
            "4\n",
            "6\n",
            "8\n",
            "10\n",
            "12\n",
            "14\n",
            "16\n",
            "18\n",
            "20\n"
          ]
        }
      ]
    },
    {
      "cell_type": "code",
      "source": [
        "positive_color= 'green'\n",
        "positive_color== 'green'\n"
      ],
      "metadata": {
        "colab": {
          "base_uri": "https://localhost:8080/"
        },
        "id": "BNkn464dO9nu",
        "outputId": "2d0d5e98-9819-4e69-c33a-385208bc98c5"
      },
      "execution_count": null,
      "outputs": [
        {
          "output_type": "execute_result",
          "data": {
            "text/plain": [
              "True"
            ]
          },
          "metadata": {},
          "execution_count": 27
        }
      ]
    },
    {
      "cell_type": "code",
      "source": [
        ""
      ],
      "metadata": {
        "id": "vuytRF1IVl_d"
      },
      "execution_count": null,
      "outputs": []
    },
    {
      "cell_type": "code",
      "source": [
        "\n",
        "positive_color= 'red'\n",
        "positive_color=='green'"
      ],
      "metadata": {
        "colab": {
          "base_uri": "https://localhost:8080/"
        },
        "id": "sFrXD4nkVZ2d",
        "outputId": "67da72b4-a77b-40e8-8433-564c85fbe8cb"
      },
      "execution_count": null,
      "outputs": [
        {
          "output_type": "execute_result",
          "data": {
            "text/plain": [
              "False"
            ]
          },
          "metadata": {},
          "execution_count": 25
        }
      ]
    },
    {
      "cell_type": "code",
      "source": [
        "patient_exam= 'positive_for_covid'\n",
        "if patient_exam != \"pos_flu\":\n",
        "  print ('Incorrect exam!')"
      ],
      "metadata": {
        "colab": {
          "base_uri": "https://localhost:8080/"
        },
        "id": "86F9e4UmVnt4",
        "outputId": "9e79d144-478c-4674-b436-14f8d2a72877"
      },
      "execution_count": null,
      "outputs": [
        {
          "output_type": "stream",
          "name": "stdout",
          "text": [
            "Incorrect exam!\n"
          ]
        }
      ]
    },
    {
      "cell_type": "code",
      "source": [
        "toppings = ['chocolate', 'sprinkles']\n",
        "\n",
        "for topping in toppings:\n",
        "  if topping == 'chocolate':\n",
        "   print(\"All out of chocolate!\")\n",
        "  else:\n",
        "    print(\"Adding the following topping!\" + topping)\n",
        "\n"
      ],
      "metadata": {
        "colab": {
          "base_uri": "https://localhost:8080/"
        },
        "id": "RDOAjmjWYDUT",
        "outputId": "5b8855cb-dab3-4586-9019-50343794e222"
      },
      "execution_count": null,
      "outputs": [
        {
          "output_type": "stream",
          "name": "stdout",
          "text": [
            "All out of chocolate!\n",
            "Adding the following topping!sprinkles\n"
          ]
        }
      ]
    },
    {
      "cell_type": "code",
      "source": [
        "toppings = ['chocolate', 'sprinkles']\n",
        "\n",
        "for topping in toppings:\n",
        "  if topping == 'chocolate':\n",
        "   print(\"All out of chocolate!\")\n",
        "else:\n",
        "    print(\"Adding the following topping!\" + topping)\n",
        "\n"
      ],
      "metadata": {
        "colab": {
          "base_uri": "https://localhost:8080/"
        },
        "id": "jY7sCMR-Z_AI",
        "outputId": "db204f5d-2ed2-4866-ed22-9ed5fb99fb02"
      },
      "execution_count": null,
      "outputs": [
        {
          "output_type": "stream",
          "name": "stdout",
          "text": [
            "All out of chocolate!\n",
            "Adding the following topping!sprinkles\n"
          ]
        }
      ]
    },
    {
      "cell_type": "code",
      "source": [
        ""
      ],
      "metadata": {
        "id": "S1-ooq7F8DzC"
      },
      "execution_count": null,
      "outputs": []
    },
    {
      "cell_type": "markdown",
      "source": [
        "**DICTIONARIES**"
      ],
      "metadata": {
        "id": "XGOQPTU-8FRy"
      }
    },
    {
      "cell_type": "code",
      "source": [
        "test_1 = { 'first_name' : 'Genesis' , 'second_name':'Narell' , 'third_name':'Dominic'}\n",
        "print(test_1['first_name'])\n",
        "print(test_1['second_name'])\n",
        "print(test_1['third_name'])"
      ],
      "metadata": {
        "colab": {
          "base_uri": "https://localhost:8080/"
        },
        "id": "-zVnmO768Get",
        "outputId": "77be2041-8aaf-48a7-fd44-4bcde2c2c9d4"
      },
      "execution_count": null,
      "outputs": [
        {
          "output_type": "stream",
          "name": "stdout",
          "text": [
            "Genesis\n",
            "Narell\n",
            "Dominic\n"
          ]
        }
      ]
    },
    {
      "cell_type": "markdown",
      "source": [
        "Accesing Dictionaries "
      ],
      "metadata": {
        "id": "i-ZTcLpS_2Mo"
      }
    },
    {
      "cell_type": "code",
      "source": [
        "test_1 = { 'first_name' : 'Genesis' , 'second_name':'Narell' , 'third_name':'Dominic'}\n",
        "test_1 ="
      ],
      "metadata": {
        "id": "8CsBN-1F_oib"
      },
      "execution_count": null,
      "outputs": []
    },
    {
      "cell_type": "code",
      "source": [
        ""
      ],
      "metadata": {
        "id": "gVhwpmNHAcMe"
      },
      "execution_count": null,
      "outputs": []
    },
    {
      "cell_type": "markdown",
      "source": [
        "New Key- Value Pairs"
      ],
      "metadata": {
        "id": "0HwW5sb_AdWV"
      }
    },
    {
      "cell_type": "code",
      "source": [
        "test_1 = { 'first_name' : 'Genesis' , 'second_name':'Narell' , 'third_name':'Dominic'}\n",
        "print(test_1['first_name'])\n",
        "print(test_1['second_name'])\n",
        "print(test_1['third_name'])\n",
        "\n",
        "\n",
        "test_1['XYZ'] = '9174216152'\n",
        "test_1 ['Last_test'] = 'finals'\n",
        "print(test_1)"
      ],
      "metadata": {
        "colab": {
          "base_uri": "https://localhost:8080/"
        },
        "id": "nvO7tgXTAkPQ",
        "outputId": "4d4c5324-ecfc-492b-880a-4b64b5c14365"
      },
      "execution_count": null,
      "outputs": [
        {
          "output_type": "stream",
          "name": "stdout",
          "text": [
            "Genesis\n",
            "Narell\n",
            "Dominic\n",
            "{'first_name': 'Genesis', 'second_name': 'Narell', 'third_name': 'Dominic', 'XYZ': '9174216152', 'Last_test': 'finals'}\n"
          ]
        }
      ]
    },
    {
      "cell_type": "markdown",
      "source": [
        "Starting with an empty Dictionary: 3-5 mins \n",
        "\n"
      ],
      "metadata": {
        "id": "f6QOFMExBg5A"
      }
    },
    {
      "cell_type": "code",
      "source": [
        "test_2 = {}\n",
        "test_2 ['first_name'] = 'Maria'\n",
        "test_2 ['last_name'] = 'Montanari'\n",
        "\n",
        "print(test_2)"
      ],
      "metadata": {
        "colab": {
          "base_uri": "https://localhost:8080/"
        },
        "id": "6iNpNQc9CJEk",
        "outputId": "1f104d52-67b6-42fa-ebca-e5e575d17d78"
      },
      "execution_count": null,
      "outputs": [
        {
          "output_type": "stream",
          "name": "stdout",
          "text": [
            "{'first_name': 'Maria', 'last_name': 'Montanari'}\n"
          ]
        }
      ]
    },
    {
      "cell_type": "markdown",
      "source": [
        "**EXERCISE IN CLASS**"
      ],
      "metadata": {
        "id": "jUPqsL12D3fm"
      }
    },
    {
      "cell_type": "code",
      "source": [
        "friends_information = { '1' : 'Alessandra' , '2':'Emily'}\n",
        "print(friends_information ['1'])\n",
        "friends_name = friends_information[ '1' ]\n",
        "print(\"Meet \" + friends_name)\n",
        "'1' ['last_name'] = 'Franco'\n",
        "'1' ['age'] = '34'\n",
        "'1' ['city'] = 'New York'\n",
        "\" ['hobby'] = 'Art'\n",
        "friends_information\n",
        "\n",
        "print(friends_information ['2'])\n",
        "\n"
      ],
      "metadata": {
        "colab": {
          "base_uri": "https://localhost:8080/"
        },
        "id": "e0tEYTxYD8Bs",
        "outputId": "13c697b0-dc5e-4237-8631-62bf8cde24bf"
      },
      "execution_count": null,
      "outputs": [
        {
          "output_type": "stream",
          "name": "stdout",
          "text": [
            "Alessandra\n",
            "Meet Alessandra\n",
            "Emily\n"
          ]
        }
      ]
    },
    {
      "cell_type": "code",
      "source": [
        ""
      ],
      "metadata": {
        "id": "uC7942V-NOsD"
      },
      "execution_count": null,
      "outputs": []
    },
    {
      "cell_type": "code",
      "source": [
        "person_1 = {'Name': \"lalo\", 'Last_name': \"weldinlyinh\", 'age': 20, 'city': 'NYC', 'Fav food': \"MacNCheese\"}\n",
        "for i in person_1:\n",
        "  print(i,person_1[i])"
      ],
      "metadata": {
        "colab": {
          "base_uri": "https://localhost:8080/"
        },
        "id": "CZp8fTisNOu6",
        "outputId": "cf06df30-ae4e-419e-ee18-13343d216314"
      },
      "execution_count": null,
      "outputs": [
        {
          "output_type": "stream",
          "name": "stdout",
          "text": [
            "Name lalo\n",
            "Last_name weldinlyinh\n",
            "age 20\n",
            "city NYC\n",
            "Fav food MacNCheese\n"
          ]
        }
      ]
    },
    {
      "cell_type": "code",
      "source": [
        "People = {\"octavio\": 20, 'lola': 19, 'Pablo': 22, 'Steve': 33, 'Jaan': 25}\n",
        "for x in People:\n",
        "  print(x,People[x], \"years old\")"
      ],
      "metadata": {
        "colab": {
          "base_uri": "https://localhost:8080/"
        },
        "id": "P5er_wSmNROE",
        "outputId": "6efcbebb-674f-4c4c-c7fb-1e220941a5b7"
      },
      "execution_count": null,
      "outputs": [
        {
          "output_type": "stream",
          "name": "stdout",
          "text": [
            "octavio 20 years old\n",
            "lola 19 years old\n",
            "Pablo 22 years old\n",
            "Steve 33 years old\n",
            "Jaan 25 years old\n"
          ]
        }
      ]
    },
    {
      "cell_type": "code",
      "source": [
        "Dictionaty_1 = {'Apple': 'is a fruit that can come in different colors','Python': 'Is a programming language use to code and analyze data', 'Google': \"Google is s search Engine\"}\n",
        "for i in Dictionaty_1:\n",
        "  print(i+\": \"+Dictionaty_1[i])"
      ],
      "metadata": {
        "colab": {
          "base_uri": "https://localhost:8080/"
        },
        "id": "oiI67CQTNWFw",
        "outputId": "352888d3-57b1-4ef0-83d3-5a05f906ce9b"
      },
      "execution_count": null,
      "outputs": [
        {
          "output_type": "stream",
          "name": "stdout",
          "text": [
            "Apple: is a fruit that can come in different colors\n",
            "Python: Is a programming language use to code and analyze data\n",
            "Google: Google is s search Engine\n"
          ]
        }
      ]
    },
    {
      "cell_type": "markdown",
      "source": [
        "INPUT"
      ],
      "metadata": {
        "id": "FyfmJMHBXS9o"
      }
    },
    {
      "cell_type": "code",
      "source": [
        "prompt = \"Input a message. I will repeat it until ypu type 'quit'\"\n",
        "message = \"I wont stop until I get what I want\"\n",
        "\n",
        "while message != 'quit':\n",
        "    message = input(prompt)\n",
        "    print(message)\n",
        "\n",
        "    if message == \"quit\":\n",
        "      active = False \n",
        "\n",
        "    else:\n",
        "        print(message)"
      ],
      "metadata": {
        "colab": {
          "base_uri": "https://localhost:8080/",
          "height": 537
        },
        "id": "CcG5pb4XXVND",
        "outputId": "d1712309-2099-404b-c8af-674748385112"
      },
      "execution_count": null,
      "outputs": [
        {
          "output_type": "error",
          "ename": "KeyboardInterrupt",
          "evalue": "ignored",
          "traceback": [
            "\u001b[0;31m---------------------------------------------------------------------------\u001b[0m",
            "\u001b[0;31mKeyboardInterrupt\u001b[0m                         Traceback (most recent call last)",
            "\u001b[0;32m/usr/local/lib/python3.7/dist-packages/ipykernel/kernelbase.py\u001b[0m in \u001b[0;36m_input_request\u001b[0;34m(self, prompt, ident, parent, password)\u001b[0m\n\u001b[1;32m    728\u001b[0m             \u001b[0;32mtry\u001b[0m\u001b[0;34m:\u001b[0m\u001b[0;34m\u001b[0m\u001b[0;34m\u001b[0m\u001b[0m\n\u001b[0;32m--> 729\u001b[0;31m                 \u001b[0mident\u001b[0m\u001b[0;34m,\u001b[0m \u001b[0mreply\u001b[0m \u001b[0;34m=\u001b[0m \u001b[0mself\u001b[0m\u001b[0;34m.\u001b[0m\u001b[0msession\u001b[0m\u001b[0;34m.\u001b[0m\u001b[0mrecv\u001b[0m\u001b[0;34m(\u001b[0m\u001b[0mself\u001b[0m\u001b[0;34m.\u001b[0m\u001b[0mstdin_socket\u001b[0m\u001b[0;34m,\u001b[0m \u001b[0;36m0\u001b[0m\u001b[0;34m)\u001b[0m\u001b[0;34m\u001b[0m\u001b[0;34m\u001b[0m\u001b[0m\n\u001b[0m\u001b[1;32m    730\u001b[0m             \u001b[0;32mexcept\u001b[0m \u001b[0mException\u001b[0m\u001b[0;34m:\u001b[0m\u001b[0;34m\u001b[0m\u001b[0;34m\u001b[0m\u001b[0m\n",
            "\u001b[0;32m/usr/local/lib/python3.7/dist-packages/jupyter_client/session.py\u001b[0m in \u001b[0;36mrecv\u001b[0;34m(self, socket, mode, content, copy)\u001b[0m\n\u001b[1;32m    802\u001b[0m         \u001b[0;32mtry\u001b[0m\u001b[0;34m:\u001b[0m\u001b[0;34m\u001b[0m\u001b[0;34m\u001b[0m\u001b[0m\n\u001b[0;32m--> 803\u001b[0;31m             \u001b[0mmsg_list\u001b[0m \u001b[0;34m=\u001b[0m \u001b[0msocket\u001b[0m\u001b[0;34m.\u001b[0m\u001b[0mrecv_multipart\u001b[0m\u001b[0;34m(\u001b[0m\u001b[0mmode\u001b[0m\u001b[0;34m,\u001b[0m \u001b[0mcopy\u001b[0m\u001b[0;34m=\u001b[0m\u001b[0mcopy\u001b[0m\u001b[0;34m)\u001b[0m\u001b[0;34m\u001b[0m\u001b[0;34m\u001b[0m\u001b[0m\n\u001b[0m\u001b[1;32m    804\u001b[0m         \u001b[0;32mexcept\u001b[0m \u001b[0mzmq\u001b[0m\u001b[0;34m.\u001b[0m\u001b[0mZMQError\u001b[0m \u001b[0;32mas\u001b[0m \u001b[0me\u001b[0m\u001b[0;34m:\u001b[0m\u001b[0;34m\u001b[0m\u001b[0;34m\u001b[0m\u001b[0m\n",
            "\u001b[0;32m/usr/local/lib/python3.7/dist-packages/zmq/sugar/socket.py\u001b[0m in \u001b[0;36mrecv_multipart\u001b[0;34m(self, flags, copy, track)\u001b[0m\n\u001b[1;32m    624\u001b[0m         \"\"\"\n\u001b[0;32m--> 625\u001b[0;31m         \u001b[0mparts\u001b[0m \u001b[0;34m=\u001b[0m \u001b[0;34m[\u001b[0m\u001b[0mself\u001b[0m\u001b[0;34m.\u001b[0m\u001b[0mrecv\u001b[0m\u001b[0;34m(\u001b[0m\u001b[0mflags\u001b[0m\u001b[0;34m,\u001b[0m \u001b[0mcopy\u001b[0m\u001b[0;34m=\u001b[0m\u001b[0mcopy\u001b[0m\u001b[0;34m,\u001b[0m \u001b[0mtrack\u001b[0m\u001b[0;34m=\u001b[0m\u001b[0mtrack\u001b[0m\u001b[0;34m)\u001b[0m\u001b[0;34m]\u001b[0m\u001b[0;34m\u001b[0m\u001b[0;34m\u001b[0m\u001b[0m\n\u001b[0m\u001b[1;32m    626\u001b[0m         \u001b[0;31m# have first part already, only loop while more to receive\u001b[0m\u001b[0;34m\u001b[0m\u001b[0;34m\u001b[0m\u001b[0;34m\u001b[0m\u001b[0m\n",
            "\u001b[0;32mzmq/backend/cython/socket.pyx\u001b[0m in \u001b[0;36mzmq.backend.cython.socket.Socket.recv\u001b[0;34m()\u001b[0m\n",
            "\u001b[0;32mzmq/backend/cython/socket.pyx\u001b[0m in \u001b[0;36mzmq.backend.cython.socket.Socket.recv\u001b[0;34m()\u001b[0m\n",
            "\u001b[0;32mzmq/backend/cython/socket.pyx\u001b[0m in \u001b[0;36mzmq.backend.cython.socket._recv_copy\u001b[0;34m()\u001b[0m\n",
            "\u001b[0;32m/usr/local/lib/python3.7/dist-packages/zmq/backend/cython/checkrc.pxd\u001b[0m in \u001b[0;36mzmq.backend.cython.checkrc._check_rc\u001b[0;34m()\u001b[0m\n",
            "\u001b[0;31mKeyboardInterrupt\u001b[0m: ",
            "\nDuring handling of the above exception, another exception occurred:\n",
            "\u001b[0;31mKeyboardInterrupt\u001b[0m                         Traceback (most recent call last)",
            "\u001b[0;32m<ipython-input-37-82ec408c238f>\u001b[0m in \u001b[0;36m<module>\u001b[0;34m()\u001b[0m\n\u001b[1;32m      3\u001b[0m \u001b[0;34m\u001b[0m\u001b[0m\n\u001b[1;32m      4\u001b[0m \u001b[0;32mwhile\u001b[0m \u001b[0mmessage\u001b[0m \u001b[0;34m!=\u001b[0m \u001b[0;34m'quit'\u001b[0m\u001b[0;34m:\u001b[0m\u001b[0;34m\u001b[0m\u001b[0;34m\u001b[0m\u001b[0m\n\u001b[0;32m----> 5\u001b[0;31m     \u001b[0mmessage\u001b[0m \u001b[0;34m=\u001b[0m \u001b[0minput\u001b[0m\u001b[0;34m(\u001b[0m\u001b[0mprompt\u001b[0m\u001b[0;34m)\u001b[0m\u001b[0;34m\u001b[0m\u001b[0;34m\u001b[0m\u001b[0m\n\u001b[0m\u001b[1;32m      6\u001b[0m     \u001b[0mprint\u001b[0m\u001b[0;34m(\u001b[0m\u001b[0mmessage\u001b[0m\u001b[0;34m)\u001b[0m\u001b[0;34m\u001b[0m\u001b[0;34m\u001b[0m\u001b[0m\n\u001b[1;32m      7\u001b[0m \u001b[0;34m\u001b[0m\u001b[0m\n",
            "\u001b[0;32m/usr/local/lib/python3.7/dist-packages/ipykernel/kernelbase.py\u001b[0m in \u001b[0;36mraw_input\u001b[0;34m(self, prompt)\u001b[0m\n\u001b[1;32m    702\u001b[0m             \u001b[0mself\u001b[0m\u001b[0;34m.\u001b[0m\u001b[0m_parent_ident\u001b[0m\u001b[0;34m,\u001b[0m\u001b[0;34m\u001b[0m\u001b[0;34m\u001b[0m\u001b[0m\n\u001b[1;32m    703\u001b[0m             \u001b[0mself\u001b[0m\u001b[0;34m.\u001b[0m\u001b[0m_parent_header\u001b[0m\u001b[0;34m,\u001b[0m\u001b[0;34m\u001b[0m\u001b[0;34m\u001b[0m\u001b[0m\n\u001b[0;32m--> 704\u001b[0;31m             \u001b[0mpassword\u001b[0m\u001b[0;34m=\u001b[0m\u001b[0;32mFalse\u001b[0m\u001b[0;34m,\u001b[0m\u001b[0;34m\u001b[0m\u001b[0;34m\u001b[0m\u001b[0m\n\u001b[0m\u001b[1;32m    705\u001b[0m         )\n\u001b[1;32m    706\u001b[0m \u001b[0;34m\u001b[0m\u001b[0m\n",
            "\u001b[0;32m/usr/local/lib/python3.7/dist-packages/ipykernel/kernelbase.py\u001b[0m in \u001b[0;36m_input_request\u001b[0;34m(self, prompt, ident, parent, password)\u001b[0m\n\u001b[1;32m    732\u001b[0m             \u001b[0;32mexcept\u001b[0m \u001b[0mKeyboardInterrupt\u001b[0m\u001b[0;34m:\u001b[0m\u001b[0;34m\u001b[0m\u001b[0;34m\u001b[0m\u001b[0m\n\u001b[1;32m    733\u001b[0m                 \u001b[0;31m# re-raise KeyboardInterrupt, to truncate traceback\u001b[0m\u001b[0;34m\u001b[0m\u001b[0;34m\u001b[0m\u001b[0;34m\u001b[0m\u001b[0m\n\u001b[0;32m--> 734\u001b[0;31m                 \u001b[0;32mraise\u001b[0m \u001b[0mKeyboardInterrupt\u001b[0m\u001b[0;34m\u001b[0m\u001b[0;34m\u001b[0m\u001b[0m\n\u001b[0m\u001b[1;32m    735\u001b[0m             \u001b[0;32melse\u001b[0m\u001b[0;34m:\u001b[0m\u001b[0;34m\u001b[0m\u001b[0;34m\u001b[0m\u001b[0m\n\u001b[1;32m    736\u001b[0m                 \u001b[0;32mbreak\u001b[0m\u001b[0;34m\u001b[0m\u001b[0;34m\u001b[0m\u001b[0m\n",
            "\u001b[0;31mKeyboardInterrupt\u001b[0m: "
          ]
        }
      ]
    },
    {
      "cell_type": "markdown",
      "source": [
        "**FUNTIONS JAN 10 **"
      ],
      "metadata": {
        "id": "q6UPo54TcHdF"
      }
    },
    {
      "cell_type": "code",
      "source": [
        "def my_funtion(age):\n",
        "  \"\"\"How old are you?\"\"\"\n",
        "  print(\"I am \"+ age+  \"years old!\")\n",
        "person (\"33\")"
      ],
      "metadata": {
        "colab": {
          "base_uri": "https://localhost:8080/",
          "height": 201
        },
        "id": "WTtG6MgYcMvg",
        "outputId": "918c3516-7116-4ded-8886-0249439fe211"
      },
      "execution_count": null,
      "outputs": [
        {
          "output_type": "error",
          "ename": "NameError",
          "evalue": "ignored",
          "traceback": [
            "\u001b[0;31m---------------------------------------------------------------------------\u001b[0m",
            "\u001b[0;31mNameError\u001b[0m                                 Traceback (most recent call last)",
            "\u001b[0;32m<ipython-input-12-ea1168f0f1f3>\u001b[0m in \u001b[0;36m<module>\u001b[0;34m()\u001b[0m\n\u001b[1;32m      2\u001b[0m   \u001b[0;34m\"\"\"How old are you?\"\"\"\u001b[0m\u001b[0;34m\u001b[0m\u001b[0;34m\u001b[0m\u001b[0m\n\u001b[1;32m      3\u001b[0m   \u001b[0mprint\u001b[0m\u001b[0;34m(\u001b[0m\u001b[0;34m\"I am \"\u001b[0m\u001b[0;34m+\u001b[0m \u001b[0mage\u001b[0m\u001b[0;34m+\u001b[0m  \u001b[0;34m\"years old!\"\u001b[0m\u001b[0;34m)\u001b[0m\u001b[0;34m\u001b[0m\u001b[0;34m\u001b[0m\u001b[0m\n\u001b[0;32m----> 4\u001b[0;31m \u001b[0mperson\u001b[0m \u001b[0;34m(\u001b[0m\u001b[0;34m\"33\"\u001b[0m\u001b[0;34m)\u001b[0m\u001b[0;34m\u001b[0m\u001b[0;34m\u001b[0m\u001b[0m\n\u001b[0m",
            "\u001b[0;31mNameError\u001b[0m: name 'person' is not defined"
          ]
        }
      ]
    },
    {
      "cell_type": "code",
      "source": [
        ""
      ],
      "metadata": {
        "id": "qxd_M2bWprPB"
      },
      "execution_count": null,
      "outputs": []
    },
    {
      "cell_type": "markdown",
      "source": [
        "**Multiple Funtions Call Exersice**"
      ],
      "metadata": {
        "id": "BB3WiDjEpsQa"
      }
    },
    {
      "cell_type": "code",
      "source": [
        "def address_1(country, city, hospital, deparment): \n",
        "    \"\"\"To know the country and city where the person comes from and where he works\"\"\"\n",
        "    print(\"He is from \" + country + \" \" + city)\n",
        "    print(\"he works in \" + hospital + \" and his specializion is in \" + deparment)\n",
        "\n",
        "address_1('Ecuador', 'Guayaquil', 'Bicentenario Hospital', 'Nutrition')\n",
        "address_1('Unites States' , 'New York' , 'Metropolitan Hospital' , 'General Medicine')\n"
      ],
      "metadata": {
        "colab": {
          "base_uri": "https://localhost:8080/"
        },
        "id": "WKLuL99ypyKw",
        "outputId": "583f142c-dc76-4be0-cdd0-d994feee5291"
      },
      "execution_count": null,
      "outputs": [
        {
          "output_type": "stream",
          "name": "stdout",
          "text": [
            "He is from Ecuador Guayaquil\n",
            "he works in Bicentenario Hospital and his specializion is in Nutrition\n",
            "He is from Unites States New York\n",
            "he works in Metropolitan Hospital and his specializion is in General Medicine\n"
          ]
        }
      ]
    },
    {
      "cell_type": "code",
      "source": [
        ""
      ],
      "metadata": {
        "id": "Nv7KIRjGq_Iy"
      },
      "execution_count": null,
      "outputs": []
    },
    {
      "cell_type": "markdown",
      "source": [
        "Finding a maimun value and its index with Numpy Array (January 11) \n"
      ],
      "metadata": {
        "id": "VLqJkBo8qfdk"
      }
    },
    {
      "cell_type": "code",
      "source": [
        "import numpy as np\n",
        "num = np.array([9,1,7,4,2,1,6,1,5,2])\n",
        "result = np.where (num==np.max(num))\n",
        "print('return max value',np.max(num))\n",
        "print('Returned tuple of arrays : ', result)\n",
        "print('List of Indices of maximun element :', result [0])\n"
      ],
      "metadata": {
        "colab": {
          "base_uri": "https://localhost:8080/"
        },
        "id": "Z8iuJYJ_qtMW",
        "outputId": "585588c4-32ec-4a62-f089-dfae2280d1b2"
      },
      "execution_count": null,
      "outputs": [
        {
          "output_type": "stream",
          "name": "stdout",
          "text": [
            "return max value 9\n",
            "Returned tuple of arrays :  (array([0]),)\n",
            "List of Indices of maximun element : [0]\n"
          ]
        }
      ]
    },
    {
      "cell_type": "code",
      "source": [
        "import numpy as np\n",
        "np_olympic_country = np.array(['GBR','China','RUS','US','KOR','JPN','GER'])\n",
        "np_olympic_country_Gold = np.array([29,38,24,46,13,7,11])\n",
        "np_olympic_country_Silver = np.array([17,28,25,28,8,14,11])\n",
        "np_olympic_country_Bronze = np.array([19,22,32,29,7,17,14])\n",
        "lowest = np.where(np_olympic_country_Gold== np.min(np_olympic_country_Gold))\n",
        "print('Min number of gold medals',np.min(np_olympic_country_Gold ))\n",
        "print('index number of minimun element (gold medals) :', lowest[0])\n",
        "print('The country with Min number of gold medals is:',np_olympic_country[lowest])\n",
        "less_than_20_medals=np_olympic_country_Gold <20\n",
        "print(less_than_20_medals)\n",
        "np_olympic_country_Gold[less_than_20_medals]\n",
        "x = np.where(np_olympic_country_Gold <20)\n",
        "\n",
        "print('the countries with less than 20 medals are:',np_olympic_country[x])\n",
        "print('\\n')"
      ],
      "metadata": {
        "colab": {
          "base_uri": "https://localhost:8080/"
        },
        "id": "120Zedouyqma",
        "outputId": "7f6f9dbe-2d7b-43ff-bbce-8893cba3e2fb"
      },
      "execution_count": null,
      "outputs": [
        {
          "output_type": "stream",
          "name": "stdout",
          "text": [
            "Min number of gold medals 7\n",
            "index number of minimun element (gold medals) : [5]\n",
            "The country with Min number of gold medals is: ['JPN']\n",
            "[False False False False  True  True  True]\n",
            "the countries with less than 20 medals are: ['KOR' 'JPN' 'GER']\n",
            "\n",
            "\n"
          ]
        }
      ]
    },
    {
      "cell_type": "markdown",
      "source": [
        "Data Frames in Panda "
      ],
      "metadata": {
        "id": "CbgQBA8nBSYO"
      }
    },
    {
      "cell_type": "code",
      "source": [
        "import pandas as pd\n",
        "data = {\n",
        "    \"calories\" : [369, 322, 980],\n",
        "    \"duration\" : [30, 45 ,60]\n",
        "  }\n",
        "\n",
        "df = pd.DataFrame(data)\n",
        "print(df)\n",
        "print(df.loc[0])"
      ],
      "metadata": {
        "colab": {
          "base_uri": "https://localhost:8080/"
        },
        "id": "EgyhWpodBXS1",
        "outputId": "367d1f2e-766a-4dac-c2ef-41d3b82bf33f"
      },
      "execution_count": null,
      "outputs": [
        {
          "output_type": "stream",
          "name": "stdout",
          "text": [
            "   calories  duration\n",
            "0       369        30\n",
            "1       322        45\n",
            "2       980        60\n",
            "calories    369\n",
            "duration     30\n",
            "Name: 0, dtype: int64\n"
          ]
        }
      ]
    },
    {
      "cell_type": "code",
      "source": [
        "import pandas as pd \n",
        "classexercise = [1, 7, 2]\n",
        "myvar = pd.Series(classexercise)\n",
        "print(myvar)\n",
        "print(myvar[1])\n",
        "\n"
      ],
      "metadata": {
        "colab": {
          "base_uri": "https://localhost:8080/"
        },
        "id": "ccfR0EReIVe1",
        "outputId": "170c0cf6-ba00-4ab8-d822-425ba2f1b2f1"
      },
      "execution_count": null,
      "outputs": [
        {
          "output_type": "stream",
          "name": "stdout",
          "text": [
            "0    1\n",
            "1    7\n",
            "2    2\n",
            "dtype: int64\n",
            "7\n"
          ]
        }
      ]
    },
    {
      "cell_type": "markdown",
      "source": [
        "Analizing Data togueter!! Exercise "
      ],
      "metadata": {
        "id": "6eHJacyQt-Fn"
      }
    }
  ]
}