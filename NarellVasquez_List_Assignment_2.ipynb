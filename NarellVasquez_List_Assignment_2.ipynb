{
  "nbformat": 4,
  "nbformat_minor": 0,
  "metadata": {
    "colab": {
      "name": "NarellVasquez_List_Assignment_2.ipynb",
      "provenance": [],
      "collapsed_sections": [],
      "toc_visible": true
    },
    "kernelspec": {
      "name": "python3",
      "display_name": "Python 3"
    }
  },
  "cells": [
    {
      "cell_type": "markdown",
      "metadata": {
        "id": "Vgs8Kp4TidFQ"
      },
      "source": [
        "# Intrdouction to Python - List - Assingment #2  "
      ]
    },
    {
      "cell_type": "markdown",
      "metadata": {
        "id": "_Hq7Ny79iwgD"
      },
      "source": [
        "## 1.Create a list of 5 of your favorite tv shows.  ?"
      ]
    },
    {
      "cell_type": "code",
      "metadata": {
        "id": "lotvpVpvlKsR"
      },
      "source": [
        "favorite_tv_shows =['Emily in Paris' , 'Selling Sunset' , 'Shitts Creek' , 'the queen Gamber' , 'Money Heist']\n",
        "                    "
      ],
      "execution_count": null,
      "outputs": []
    },
    {
      "cell_type": "code",
      "metadata": {
        "id": "oNXY-CfrlLbE"
      },
      "source": [
        ""
      ],
      "execution_count": null,
      "outputs": []
    },
    {
      "cell_type": "markdown",
      "metadata": {
        "id": "io_27RSlizno"
      },
      "source": [
        "## 2.\tPrint the list in its original order"
      ]
    },
    {
      "cell_type": "code",
      "metadata": {
        "id": "Dh1o5cAylSHB",
        "outputId": "bd4fc743-2c5b-436c-a25b-39ca585e25b9",
        "colab": {
          "base_uri": "https://localhost:8080/"
        }
      },
      "source": [
        "favorite_tv_shows =['Emily in Paris' , 'Selling Sunset' , 'Shitts Creek' , 'the queen Gamber' , 'Money Heist']\n",
        "print(favorite_tv_shows)"
      ],
      "execution_count": null,
      "outputs": [
        {
          "output_type": "stream",
          "name": "stdout",
          "text": [
            "['Emily in Paris', 'Selling Sunset', 'Shitts Creek', 'the queen Gamber', 'Money Heist']\n"
          ]
        }
      ]
    },
    {
      "cell_type": "code",
      "metadata": {
        "id": "vs8ppR-wlSKL"
      },
      "source": [
        ""
      ],
      "execution_count": null,
      "outputs": []
    },
    {
      "cell_type": "markdown",
      "metadata": {
        "id": "DAW8m8IQjRyR"
      },
      "source": [
        "## 3.\tUse the sorted() function to print the list in alphabetical order.  How is sorted() different from sort()?"
      ]
    },
    {
      "cell_type": "code",
      "metadata": {
        "id": "guULMEhrjYtT",
        "outputId": "2460c677-0ae5-4cac-ab68-b330b6b384fa",
        "colab": {
          "base_uri": "https://localhost:8080/"
        }
      },
      "source": [
        "favorite_tv_shows =['Emily in Paris' , 'Selling Sunset' , 'Shitts Creek' , 'The Queen Gamber' , 'Money Heist']\n",
        "favorite_tv_shows.sort()\n",
        "print(favorite_tv_shows)"
      ],
      "execution_count": null,
      "outputs": [
        {
          "output_type": "stream",
          "name": "stdout",
          "text": [
            "['Emily in Paris', 'Money Heist', 'Selling Sunset', 'Shitts Creek', 'The Queen Gamber']\n"
          ]
        }
      ]
    },
    {
      "cell_type": "code",
      "metadata": {
        "id": "cv946RaOjw-G"
      },
      "source": [
        ""
      ],
      "execution_count": null,
      "outputs": []
    },
    {
      "cell_type": "markdown",
      "metadata": {
        "id": "dpa_YOt4jXyo"
      },
      "source": [
        "## 4.\tPrint out your original list."
      ]
    },
    {
      "cell_type": "code",
      "metadata": {
        "id": "pltxfnh3iJLW",
        "outputId": "75b79c15-64c8-4b44-d11e-f0eaefdfdd21",
        "colab": {
          "base_uri": "https://localhost:8080/"
        }
      },
      "source": [
        "favorite_tv_shows =['Emily in Paris' , 'Selling Sunset' , 'Shitts Creek' , 'the queen Gamber' , 'Money Heist']\n",
        "print(favorite_tv_shows)"
      ],
      "execution_count": null,
      "outputs": [
        {
          "output_type": "stream",
          "name": "stdout",
          "text": [
            "['Emily in Paris', 'Selling Sunset', 'Shitts Creek', 'the queen Gamber', 'Money Heist']\n"
          ]
        }
      ]
    },
    {
      "cell_type": "code",
      "metadata": {
        "id": "PzH5Rcn-jwPL"
      },
      "source": [
        ""
      ],
      "execution_count": null,
      "outputs": []
    },
    {
      "cell_type": "markdown",
      "metadata": {
        "id": "Ka84RGy4jmLT"
      },
      "source": [
        "## 5.\tUsed sorted() to print your list in reverse alphabetical order."
      ]
    },
    {
      "cell_type": "code",
      "metadata": {
        "id": "34IFFtK4jrg4",
        "outputId": "4d190f7b-f1fc-41f2-fe25-7bd9001e12e5",
        "colab": {
          "base_uri": "https://localhost:8080/"
        }
      },
      "source": [
        "favorite_tv_shows =['Emily in Paris' , 'Selling Sunset' , 'Shitts Creek' , 'The queen Gamber' , 'Money Heist']\n",
        "favorite_tv_shows.sort(reverse=True)\n",
        "print(favorite_tv_shows)"
      ],
      "execution_count": null,
      "outputs": [
        {
          "output_type": "stream",
          "name": "stdout",
          "text": [
            "['The queen Gamber', 'Shitts Creek', 'Selling Sunset', 'Money Heist', 'Emily in Paris']\n"
          ]
        }
      ]
    },
    {
      "cell_type": "code",
      "metadata": {
        "id": "M17RfxQljvqb"
      },
      "source": [
        ""
      ],
      "execution_count": null,
      "outputs": []
    },
    {
      "cell_type": "code",
      "metadata": {
        "id": "4agTp_Cyju4-"
      },
      "source": [
        ""
      ],
      "execution_count": null,
      "outputs": []
    },
    {
      "cell_type": "markdown",
      "metadata": {
        "id": "ZKHwdMnLliFy"
      },
      "source": [
        "## 6.\tCreate a message indicating how many favorite TV shows you have – use the len() function."
      ]
    },
    {
      "cell_type": "code",
      "metadata": {
        "id": "eXUDZfLOllTT",
        "outputId": "0d4fb73a-a872-47d7-f69e-29a6550b6059",
        "colab": {
          "base_uri": "https://localhost:8080/"
        }
      },
      "source": [
        "favorite_tv_shows =['Emily in Paris' , 'Selling Sunset' , 'Shitts Creek' , 'the queen Gamber' , 'Money Heist']\n",
        "print(favorite_tv_shows)\n",
        "message = \"I have 5 favorite TV Shows !!!\"\n",
        "print(message)\n",
        "\n"
      ],
      "execution_count": null,
      "outputs": [
        {
          "output_type": "stream",
          "name": "stdout",
          "text": [
            "['Emily in Paris', 'Selling Sunset', 'Shitts Creek', 'the queen Gamber', 'Money Heist']\n",
            "I have 5 favorite TV Shows !!!\n"
          ]
        }
      ]
    },
    {
      "cell_type": "code",
      "metadata": {
        "id": "4oNKGU70llVg"
      },
      "source": [
        ""
      ],
      "execution_count": null,
      "outputs": []
    },
    {
      "cell_type": "code",
      "metadata": {
        "id": "jjh2GdktllZY"
      },
      "source": [
        ""
      ],
      "execution_count": null,
      "outputs": []
    },
    {
      "cell_type": "code",
      "metadata": {
        "id": "iHaRIrt8llcd"
      },
      "source": [
        ""
      ],
      "execution_count": null,
      "outputs": []
    }
  ]
}