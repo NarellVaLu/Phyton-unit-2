{
  "nbformat": 4,
  "nbformat_minor": 0,
  "metadata": {
    "colab": {
      "name": "Narell.Vasquez.Unit2_Conditional_Operations_Assignment_4.ipynb",
      "provenance": [],
      "collapsed_sections": [],
      "toc_visible": true
    },
    "kernelspec": {
      "name": "python3",
      "display_name": "Python 3"
    }
  },
  "cells": [
    {
      "cell_type": "markdown",
      "metadata": {
        "id": "Vgs8Kp4TidFQ"
      },
      "source": [
        "# Intrdouction to Python - Conditional Operations Assignment #4\n",
        "\n",
        "## If-elif-else Statements "
      ]
    },
    {
      "cell_type": "markdown",
      "metadata": {
        "id": "_Hq7Ny79iwgD"
      },
      "source": [
        "## 1.\tMake a list of 5 or more usernames, including an admin account.  Imagine you are writing code that will welcome people to your application on login. Loop through the list and print your greeting.\n",
        "\n",
        "a.\tIf the admin account logs in, give them a special greeting.  They’re the admin, after all!\n",
        "\n",
        "b.\tOther users can get the generic greeting\n",
        "\n"
      ]
    },
    {
      "cell_type": "code",
      "metadata": {
        "id": "lotvpVpvlKsR",
        "colab": {
          "base_uri": "https://localhost:8080/"
        },
        "outputId": "3f09b415-ef8f-430f-d8ee-1f1caf9b1811"
      },
      "source": [
        "usernames = [ 'dominicv78' , 'narell1991', 'tanyaluquec', 'ajmerino' , 'adminvasquez' ]\n",
        "for users in usernames:\n",
        "      print(users.title() + \"  Welcome to our app. We are happy to have you here !\")"
      ],
      "execution_count": null,
      "outputs": [
        {
          "output_type": "stream",
          "name": "stdout",
          "text": [
            "Dominicv78  Welcome to our app. We are happy to have you here !\n",
            "Narell1991  Welcome to our app. We are happy to have you here !\n",
            "Tanyaluquec  Welcome to our app. We are happy to have you here !\n",
            "Ajmerino  Welcome to our app. We are happy to have you here !\n",
            "Adminvasquez  Welcome to our app. We are happy to have you here !\n"
          ]
        }
      ]
    },
    {
      "cell_type": "code",
      "metadata": {
        "id": "oNXY-CfrlLbE",
        "colab": {
          "base_uri": "https://localhost:8080/"
        },
        "outputId": "9e05bb2a-545c-485b-b035-873f9da179a2"
      },
      "source": [
        "usernames = [ 'dominicv78' , 'narell1991', 'tanyaluquec', 'ajmerino' , 'adminvasquez' ]\n",
        "for users in usernames:\n",
        "    if users == 'adminvasquez':  \n",
        "       print(users.upper() + \" You are very important and special to us. We are here to help you !\")\n",
        "    else:\n",
        "       print(users.lower() +  \"  Welcome to our app. We are happy to have you here !\")"
      ],
      "execution_count": null,
      "outputs": [
        {
          "output_type": "stream",
          "name": "stdout",
          "text": [
            "dominicv78  Welcome to our app. We are happy to have you here !\n",
            "narell1991  Welcome to our app. We are happy to have you here !\n",
            "tanyaluquec  Welcome to our app. We are happy to have you here !\n",
            "ajmerino  Welcome to our app. We are happy to have you here !\n",
            "ADMINVASQUEZ You are very important and special to us. We are here to help you !\n"
          ]
        }
      ]
    },
    {
      "cell_type": "markdown",
      "metadata": {
        "id": "io_27RSlizno"
      },
      "source": [
        "## 2.\tStore numbers 1-10 in a list\n",
        "\n",
        "a.\tLoop through the list\n",
        "\n",
        "b.\tUse an if-elif-else chain inside your loop to print the ordinal ending for each number – for example – 1st, 2nd, 3rd … etc.\n",
        "\n"
      ]
    },
    {
      "cell_type": "code",
      "metadata": {
        "id": "Dh1o5cAylSHB",
        "colab": {
          "base_uri": "https://localhost:8080/"
        },
        "outputId": "8a99de8b-aa55-40e1-ee0d-714256296e2d"
      },
      "source": [
        "numbers = [1,2,3,4,5,6,7,8,9,10]\n",
        "print(numbers)"
      ],
      "execution_count": null,
      "outputs": [
        {
          "output_type": "stream",
          "name": "stdout",
          "text": [
            "[1, 2, 3, 4, 5, 6, 7, 8, 9, 10]\n"
          ]
        }
      ]
    },
    {
      "cell_type": "code",
      "metadata": {
        "id": "vs8ppR-wlSKL",
        "colab": {
          "base_uri": "https://localhost:8080/"
        },
        "outputId": "24bd911e-b4b0-478d-faf6-bda351a77b23"
      },
      "source": [
        "numbers = [1,2,3,4,5,6,7,8,9,10]\n",
        "for number in numbers:\n",
        "  print(number) "
      ],
      "execution_count": null,
      "outputs": [
        {
          "output_type": "stream",
          "name": "stdout",
          "text": [
            "1\n",
            "2\n",
            "3\n",
            "4\n",
            "5\n",
            "6\n",
            "7\n",
            "8\n",
            "9\n",
            "10\n"
          ]
        }
      ]
    },
    {
      "cell_type": "code",
      "metadata": {
        "id": "5mkKtxzunuqc",
        "colab": {
          "base_uri": "https://localhost:8080/"
        },
        "outputId": "c0954ed2-4127-4225-d57e-e229c06cfc13"
      },
      "source": [
        "numbers = ['1', '2', '3', '4', '5', '6', '7', '8', '9','10']\n",
        "for numbers in numbers:\n",
        "    if numbers == '1': \n",
        "      print('{}st.'.format(numbers))\n",
        "    elif numbers == '2':      \n",
        "      print('{}nd.'.format(numbers))\n",
        "    elif numbers == '3':\n",
        "        print('{}rd.'.format(numbers))\n",
        "    else:\n",
        "        print('{}th.'.format(numbers))\n",
        "\n",
        "\n",
        "\n",
        "\n",
        "\n"
      ],
      "execution_count": null,
      "outputs": [
        {
          "output_type": "stream",
          "name": "stdout",
          "text": [
            "1st.\n",
            "2nd.\n",
            "3rd.\n",
            "4th.\n",
            "5th.\n",
            "6th.\n",
            "7th.\n",
            "8th.\n",
            "9th.\n",
            "10th.\n"
          ]
        }
      ]
    },
    {
      "cell_type": "code",
      "metadata": {
        "id": "rmfPnI5onutd"
      },
      "source": [
        ""
      ],
      "execution_count": null,
      "outputs": []
    },
    {
      "cell_type": "code",
      "metadata": {
        "id": "6000qDkVnuxM"
      },
      "source": [
        ""
      ],
      "execution_count": null,
      "outputs": []
    },
    {
      "cell_type": "code",
      "metadata": {
        "id": "X2X4dTbfnu0M"
      },
      "source": [
        ""
      ],
      "execution_count": null,
      "outputs": []
    }
  ]
}